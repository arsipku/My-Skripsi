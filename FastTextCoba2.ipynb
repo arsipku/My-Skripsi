{
 "cells": [
  {
   "cell_type": "markdown",
   "metadata": {},
   "source": [
    "#Import Libraries"
   ]
  },
  {
   "cell_type": "code",
   "execution_count": null,
   "metadata": {},
   "outputs": [],
   "source": [
    "import string\n",
    "import numpy as np\n",
    "import pandas as pd\n",
    "import nltk\n",
    "nltk.download('punkt')\n",
    "import matplotlib.pyplot as plt\n",
    "%matplotlib inline\n",
    " \n",
    "import seaborn as sns\n",
    "sns.set_style(\"darkgrid\")\n",
    "\n",
    "from sklearn.decomposition import PCA\n",
    "from sklearn.manifold import TSNE\n",
    "\n",
    "from nltk.corpus import stopwords as stopwords_eng\n",
    "from nltk.tokenize import RegexpTokenizer\n",
    "from nltk.stem import WordNetLemmatizer\n",
    "from nltk.stem.porter import PorterStemmer\n",
    "import re\n",
    "from time import time  # To time our operations\n",
    "\n",
    "from Sastrawi.StopWordRemover.StopWordRemoverFactory import StopWordRemoverFactory\n",
    "from Sastrawi.Stemmer.StemmerFactory import StemmerFactory\n",
    "\n",
    "\n",
    "import gensim \n",
    "import logging\n",
    "import fasttext\n",
    "import multiprocessing\n",
    "\n",
    "from gensim.models import FastText as FT_gensim\n",
    "from gensim.test.utils import datapath\n",
    "from gensim.models.wrappers import FastText as FT\n",
    "\n",
    "factory = StopWordRemoverFactory()\n",
    "stopwords = factory.get_stop_words()\n",
    "stopwords"
   ]
  },
  {
   "cell_type": "code",
   "execution_count": null,
   "metadata": {},
   "outputs": [],
   "source": [
    "#Import the embedding dataset"
   ]
  },
  {
   "cell_type": "code",
   "execution_count": 2,
   "metadata": {},
   "outputs": [
    {
     "data": {
      "text/html": [
       "<div>\n",
       "<style scoped>\n",
       "    .dataframe tbody tr th:only-of-type {\n",
       "        vertical-align: middle;\n",
       "    }\n",
       "\n",
       "    .dataframe tbody tr th {\n",
       "        vertical-align: top;\n",
       "    }\n",
       "\n",
       "    .dataframe thead th {\n",
       "        text-align: right;\n",
       "    }\n",
       "</style>\n",
       "<table border=\"1\" class=\"dataframe\">\n",
       "  <thead>\n",
       "    <tr style=\"text-align: right;\">\n",
       "      <th></th>\n",
       "      <th>review</th>\n",
       "    </tr>\n",
       "  </thead>\n",
       "  <tbody>\n",
       "    <tr>\n",
       "      <td>0</td>\n",
       "      <td>Run aplikasi Force Close terus padahal sebelum...</td>\n",
       "    </tr>\n",
       "    <tr>\n",
       "      <td>1</td>\n",
       "      <td>[ulasan terjujur yang anda lihat] masih ada bu...</td>\n",
       "    </tr>\n",
       "    <tr>\n",
       "      <td>2</td>\n",
       "      <td>Pengalaman pakai provider by u. Mungkin karena...</td>\n",
       "    </tr>\n",
       "    <tr>\n",
       "      <td>3</td>\n",
       "      <td>Jaringan ampas btw, speednya sama kaya kartu 3...</td>\n",
       "    </tr>\n",
       "    <tr>\n",
       "      <td>4</td>\n",
       "      <td>Bay.u saya kenapa tdk bisa iya aplikasi bay .u...</td>\n",
       "    </tr>\n",
       "    <tr>\n",
       "      <td>...</td>\n",
       "      <td>...</td>\n",
       "    </tr>\n",
       "    <tr>\n",
       "      <td>19726</td>\n",
       "      <td>Ko parah si? Mau ganti nomor tlfn kenapa harus...</td>\n",
       "    </tr>\n",
       "    <tr>\n",
       "      <td>19727</td>\n",
       "      <td>Toko online paling menjijikan, kenapa kalian m...</td>\n",
       "    </tr>\n",
       "    <tr>\n",
       "      <td>19728</td>\n",
       "      <td>Hai kenalin nama ku chio si aku suka banget sh...</td>\n",
       "    </tr>\n",
       "    <tr>\n",
       "      <td>19729</td>\n",
       "      <td>Kebanyakan Harus di Update lagi Update lagi te...</td>\n",
       "    </tr>\n",
       "    <tr>\n",
       "      <td>19730</td>\n",
       "      <td>Kenapa Ga Bisa Masuk / Download Akun Tokopedia...</td>\n",
       "    </tr>\n",
       "  </tbody>\n",
       "</table>\n",
       "<p>19731 rows × 1 columns</p>\n",
       "</div>"
      ],
      "text/plain": [
       "                                                  review\n",
       "0      Run aplikasi Force Close terus padahal sebelum...\n",
       "1      [ulasan terjujur yang anda lihat] masih ada bu...\n",
       "2      Pengalaman pakai provider by u. Mungkin karena...\n",
       "3      Jaringan ampas btw, speednya sama kaya kartu 3...\n",
       "4      Bay.u saya kenapa tdk bisa iya aplikasi bay .u...\n",
       "...                                                  ...\n",
       "19726  Ko parah si? Mau ganti nomor tlfn kenapa harus...\n",
       "19727  Toko online paling menjijikan, kenapa kalian m...\n",
       "19728  Hai kenalin nama ku chio si aku suka banget sh...\n",
       "19729  Kebanyakan Harus di Update lagi Update lagi te...\n",
       "19730  Kenapa Ga Bisa Masuk / Download Akun Tokopedia...\n",
       "\n",
       "[19731 rows x 1 columns]"
      ]
     },
     "execution_count": 2,
     "metadata": {},
     "output_type": "execute_result"
    }
   ],
   "source": [
    "review_df = pd.read_excel(\"./Embedding_Datasets/BYU_TokPed.xlsx\").astype(str) #You can change it with your own\n",
    "review_df"
   ]
  },
  {
   "cell_type": "code",
   "execution_count": null,
   "metadata": {},
   "outputs": [],
   "source": [
    "# kamus_kata_dasar = pd.read_csv(\"F:/SKRIPSI_Temp/Deployment/Dataset/kata_dasar_kbbi.csv\").astype(str)\n",
    "# kata_dasar = kamus_kata_dasar['a']\n",
    "# kata_dasar"
   ]
  },
  {
   "cell_type": "markdown",
   "metadata": {},
   "source": [
    "#Preprocessing"
   ]
  },
  {
   "cell_type": "code",
   "execution_count": 4,
   "metadata": {},
   "outputs": [
    {
     "data": {
      "text/plain": [
       "0    [run, aplikasi, force, close, terus, padahal, ...\n",
       "1    [ulasan, terjujur, yang, anda, lihat, masih, a...\n",
       "2    [pengalaman, pakai, provider, by, u, mungkin, ...\n",
       "3    [jaringan, ampas, btw, speednya, sama, kaya, k...\n",
       "4    [bay, u, saya, kenapa, tdk, bisa, iya, aplikas...\n",
       "Name: review, dtype: object"
      ]
     },
     "execution_count": 4,
     "metadata": {},
     "output_type": "execute_result"
    }
   ],
   "source": [
    "review_user = review_df['review'].astype(str)\n",
    "\n",
    "#Lower Case\n",
    "review_user = review_user.apply(lambda x: x.lower())\n",
    "\n",
    "#Remove Number\n",
    "review_user = review_user.apply(lambda x: re.sub(r\"\\d\", \"\", x))\n",
    "\n",
    "#Before Punctuation\n",
    "review_user = review_user.apply(lambda x: re.sub(r'(?<=[,.])(?=[^\\s])', r' ', x))\n",
    "\n",
    "#punctuation\n",
    "review_user = review_user.apply(lambda x: x.translate(str.maketrans('','',string.punctuation)))\n",
    "\n",
    "#tokenizing\n",
    "review_user = review_user.apply(lambda x: nltk.tokenize.word_tokenize(x))\n",
    "#stopword removal optional\n",
    "# factory = StopWordRemoverFactory()\n",
    "# stopword = factory.create_stop_word_remover()\n",
    "# review_user = review_user.apply(lambda x: stopword.remove(x))\n",
    "\n",
    "#stemming optional\n",
    "# factory = StemmerFactory()\n",
    "# stemmer = factory.create_stemmer()\n",
    "# review_user = review_user.apply(lambda x: stemmer.stem(x))\n",
    "\n",
    "review_user.head()"
   ]
  },
  {
   "cell_type": "markdown",
   "metadata": {},
   "source": [
    "#Set the FastText Hypterparameter & Training the FastText Pre-trained Model"
   ]
  },
  {
   "cell_type": "code",
   "execution_count": 5,
   "metadata": {},
   "outputs": [],
   "source": [
    "model_gensim = FT_gensim(size=200, \n",
    "                         negative=5, \n",
    "                         min_count=1, \n",
    "                         min_n=0, \n",
    "                         max_n=1, \n",
    "                         sg=1, \n",
    "                         sorted_vocab=1, \n",
    "                         word_ngrams=1, \n",
    "                         window=5, \n",
    "                         callbacks=(),\n",
    "                        ns_exponent=0.75, \n",
    "                         cbow_mean=0, \n",
    "                         workers=4, \n",
    "                         alpha=0.1, \n",
    "                         min_alpha=0.025)"
   ]
  },
  {
   "cell_type": "code",
   "execution_count": 6,
   "metadata": {},
   "outputs": [],
   "source": [
    "model_gensim.build_vocab(review_user)"
   ]
  },
  {
   "cell_type": "code",
   "execution_count": 7,
   "metadata": {},
   "outputs": [],
   "source": [
    "total_examples = model_gensim.corpus_count\n",
    "model_gensim.train(\n",
    "    sentences=review_user,\n",
    "    total_examples=total_examples, \n",
    "    epochs = 75\n",
    ")"
   ]
  },
  {
   "cell_type": "code",
   "execution_count": 8,
   "metadata": {},
   "outputs": [
    {
     "name": "stdout",
     "output_type": "stream",
     "text": [
      "FastText(vocab=13530, size=200, alpha=0.1)\n"
     ]
    }
   ],
   "source": [
    "print(model_gensim)"
   ]
  },
  {
   "cell_type": "markdown",
   "metadata": {},
   "source": [
    "#Export the model and test it"
   ]
  },
  {
   "cell_type": "code",
   "execution_count": 9,
   "metadata": {},
   "outputs": [
    {
     "name": "stdout",
     "output_type": "stream",
     "text": [
      "FastText(vocab=13530, size=200, alpha=0.1)\n"
     ]
    }
   ],
   "source": [
    "model_gensim.save('saved_model_gensim_GABUNGAN_200.bin') #You can change it with your own file name\n",
    "loaded_model = FT_gensim.load('saved_model_gensim_GABUNGAN_200.bin')\n",
    "print(loaded_model)"
   ]
  },
  {
   "cell_type": "code",
   "execution_count": 10,
   "metadata": {},
   "outputs": [
    {
     "name": "stdout",
     "output_type": "stream",
     "text": [
      "True\n",
      "True\n",
      "[ 2.0026426  -1.6984787   3.538249   -2.0304477  -0.04546325  2.3876767\n",
      "  1.7378687  -1.7050184  -1.3764547   1.1570889   0.9219732   1.5332056\n",
      "  1.3690572  -0.68590283 -0.15111144 -1.737833   -0.7261935   0.6605806\n",
      " -2.432791   -0.8243064  -1.44249    -2.1040905  -1.6888895  -0.8353446\n",
      " -1.0407649   0.04778353 -0.7105697  -1.863659   -0.21867166  1.5721191\n",
      " -0.36214507 -1.9888777  -0.75041485  0.796098   -0.71537304 -1.2331996\n",
      " -1.8309044   2.4964945   0.94335985 -1.8478136   3.3874948  -0.8632286\n",
      " -0.02491447 -2.1305869  -2.480971   -0.25692692 -1.9347177   3.3759787\n",
      " -0.27064696  1.3710409  -3.1539936  -1.1008539   2.0317023   0.45729384\n",
      "  1.4461693   1.6916136   0.8615579  -2.2682161  -1.3537146   0.6467468\n",
      "  1.2949466   1.4584037   0.23247027 -1.5383915   2.04098     1.7247138\n",
      "  0.6147504  -1.3056042  -2.420288   -0.38292924 -0.25590086 -0.6762977\n",
      "  0.7640104   1.3404409  -4.1316733  -0.6271222  -1.3022836   1.7915688\n",
      "  1.8484489  -0.16430652  1.4064709   2.7148702   2.6693237  -2.464485\n",
      "  0.18388522  0.20181121  0.7290315  -0.3843476  -0.032305    1.8219342\n",
      "  1.0160693   1.7269044   1.1872276  -0.04994428  1.2499194   3.282502\n",
      " -1.3431948  -0.03800873 -1.0951556  -0.99977416 -3.6483066  -0.4470493\n",
      " -1.2122165   0.2477475   0.78910094  2.5105171  -1.0919839   0.36789748\n",
      " -1.4409178  -1.4950372   0.41483498 -0.6256295  -0.37716818 -0.5621826\n",
      "  1.0296434  -0.61611986 -1.3912815   0.5279593  -1.5380255   1.4164964\n",
      " -1.632855   -0.78375405  0.7137773  -5.664252    1.6926092   1.0433822\n",
      " -0.47096583  0.31241456 -0.6377644   1.0092319  -0.68941253  0.7578528\n",
      "  1.4642749  -0.8471901   1.8907675  -2.8331878  -3.648776    0.30303887\n",
      "  2.5116036   0.3608023  -1.4711288  -1.1221482   2.8163197   0.471519\n",
      " -0.86446494 -1.7479296   0.01875607  1.0459191   1.659399    0.02537903\n",
      " -1.7697264  -3.318988   -0.31889406  1.2313112  -2.5463493   0.37708172\n",
      " -1.103705   -2.669688    2.1888702   0.5054174  -1.3788651   0.24644451\n",
      " -1.6884171  -1.0976123   1.0074712  -1.4995102   0.17647755 -0.39516285\n",
      "  1.1975905   0.02643574 -0.6492343   1.5894328   0.47215238  0.42528117\n",
      " -0.7113926   1.3256153   1.2524683   0.49453583 -2.114396   -2.8584278\n",
      " -1.8021806   1.4476703   1.0101457  -0.987711   -1.5817591   0.2142887\n",
      "  4.6429677   2.888642   -0.39296302  2.899497    0.00715005 -1.0579937\n",
      " -0.3456296   1.4845399   0.14690119  1.6344004   1.6794697  -0.40453804\n",
      " -0.81273395 -2.5202758 ]\n",
      "[-1.7828194   0.30433467  1.6710399  -0.7913742   1.6213523   0.44187424\n",
      "  2.4445698  -0.38183746  1.3827249   0.22749896 -1.1034203  -0.13182032\n",
      " -1.4505419  -2.0888355   1.2166978  -1.5930179   0.48346555 -0.32487944\n",
      " -1.9896656   0.07458905 -0.2348817   0.9362078   0.21111743  0.85131043\n",
      " -1.8848156   2.9694052  -1.1167412   0.65869576  0.20500003  1.7065741\n",
      "  0.70821303 -1.0147041   1.0730144   0.6295581   0.21446474 -1.7642545\n",
      " -2.1076643   2.659314    0.4048283   0.36096373  1.75353    -0.81163245\n",
      "  0.8228758   0.7294161  -0.7866934   1.4204302   2.8291245  -0.2107209\n",
      "  0.02408715  0.7420476   0.25676808  1.5399936  -0.6142693  -0.1339287\n",
      " -0.9603281  -2.0473254   1.5439692   0.29931387 -0.51510507  1.2593588\n",
      "  0.7229483   3.0916646  -0.49271664 -1.2341492  -1.7012101   0.08814037\n",
      "  0.50787455 -0.5299315  -0.07072596 -0.5018738  -1.2388629   2.8890438\n",
      "  0.09175579 -1.283055   -4.062635   -0.51116    -2.5128953   2.429855\n",
      "  0.5836842  -0.4025091   1.1356319  -0.356324   -0.45517743 -1.8299104\n",
      "  0.8169934   2.3809102  -2.3357227   0.44205675 -0.14872241  0.15497403\n",
      "  1.1732764   0.67988163  1.3823079  -1.9032992  -1.3008851   1.4277782\n",
      " -0.26064697 -1.0724393   0.6127638  -1.8057212  -1.5003275   2.2019582\n",
      "  1.0266155  -0.21512564 -1.7399759  -1.4030954  -0.2530763   1.4863058\n",
      " -2.2305748  -0.11002425  0.38382462  2.0269449   0.00587646 -0.36600164\n",
      "  0.57880235 -1.806396   -1.7384281   0.62953514 -1.004186   -0.15678532\n",
      "  1.6978674  -2.3751135  -1.4329087  -1.7225204   0.15172136  1.4529155\n",
      "  0.79031485  1.109226    0.36302432 -2.334708   -0.93173784 -0.51080424\n",
      " -0.55210817 -1.2458032   1.3233448  -1.1694039   0.30604938 -0.19350548\n",
      "  1.4225483   0.64047277  1.206759   -1.7159572   0.01121505  2.9487536\n",
      " -0.0762051  -1.8547049  -0.38451588  0.5248973  -0.9747086   0.8858134\n",
      "  1.9788879  -1.640534   -1.5589422  -0.533145   -0.69863224 -0.9678561\n",
      " -0.7073353  -1.1114422   1.0819596   1.8597765  -0.03755939  1.5419178\n",
      "  0.06234475  1.8335925   0.9287359  -1.1426104   1.4652991  -1.1516749\n",
      "  1.5435992   0.00937173 -1.3247019   0.49245116 -0.7205717  -0.32056323\n",
      " -0.02347426  0.19368331  1.8584114   0.3863574   0.05565586 -1.0373201\n",
      " -0.74500686 -0.6535764   2.5672247   1.1179613  -2.003037    0.45066115\n",
      " -0.642424    2.2955287   0.57432705  3.2417078  -1.8376144  -0.8420746\n",
      "  2.2406452   1.5225207   0.8064782  -0.71743363  0.3417875  -1.4923478\n",
      "  0.23262441 -0.09517232]\n"
     ]
    }
   ],
   "source": [
    "print('kecewa' in loaded_model.wv.vocab)\n",
    "print('mantap' in loaded_model.wv.vocab)\n",
    "print(model_gensim.wv['jelek'])\n",
    "print(model_gensim.wv['bagus'])"
   ]
  },
  {
   "cell_type": "code",
   "execution_count": 20,
   "metadata": {},
   "outputs": [
    {
     "data": {
      "text/plain": [
       "1.0"
      ]
     },
     "execution_count": 20,
     "metadata": {},
     "output_type": "execute_result"
    }
   ],
   "source": [
    "loaded_model.wv.similarity(\"baik\", \"baik\")"
   ]
  },
  {
   "cell_type": "code",
   "execution_count": 12,
   "metadata": {},
   "outputs": [
    {
     "data": {
      "text/plain": [
       "0.7772664725780487"
      ]
     },
     "execution_count": 12,
     "metadata": {},
     "output_type": "execute_result"
    }
   ],
   "source": [
    "loaded_model.wv.distance(\"mantap\", \"jelek\")"
   ]
  },
  {
   "cell_type": "code",
   "execution_count": 13,
   "metadata": {},
   "outputs": [
    {
     "data": {
      "text/plain": [
       "[('jelekjelek', 0.9626588821411133),\n",
       " ('jlek', 0.9182401895523071),\n",
       " ('jeleeek', 0.9030128717422485),\n",
       " ('terjelek', 0.9025035500526428),\n",
       " ('jelekin', 0.8979717493057251)]"
      ]
     },
     "execution_count": 13,
     "metadata": {},
     "output_type": "execute_result"
    }
   ],
   "source": [
    "loaded_model.wv.most_similar(positive=\"jelek\", topn=5)"
   ]
  },
  {
   "cell_type": "code",
   "execution_count": 14,
   "metadata": {},
   "outputs": [
    {
     "data": {
      "text/plain": [
       "[('goblok', 0.7360547780990601),\n",
       " ('goblokk', 0.7269515991210938),\n",
       " ('gblok', 0.7219038009643555),\n",
       " ('golok', 0.7193354368209839),\n",
       " ('bloko', 0.7172606587409973)]"
      ]
     },
     "execution_count": 14,
     "metadata": {},
     "output_type": "execute_result"
    }
   ],
   "source": [
    "loaded_model.wv.most_similar_cosmul(positive=\"guoblok\", negative=None, topn=5)"
   ]
  },
  {
   "cell_type": "code",
   "execution_count": 15,
   "metadata": {},
   "outputs": [
    {
     "name": "stdout",
     "output_type": "stream",
     "text": [
      "=====POSITIVE=====\n",
      "bagus => buang\n",
      "bagus => gb\n",
      "bagus => bug\n",
      "bagus => gabisa\n",
      "bagus => sebagai\n",
      "jelek => kesel\n",
      "jelek => kejelasan\n",
      "jelek => semenjak\n",
      "jelek => jelas\n",
      "jelek => lelet\n",
      "=====NEGATIVE=====\n",
      "bagus => terjadi\n",
      "bagus => pdhl\n",
      "bagus => kesalahan\n",
      "bagus => tiket\n",
      "bagus => the\n",
      "jelek => pusat\n",
      "jelek => tulisan\n",
      "jelek => bantuan\n",
      "jelek => atas\n",
      "jelek => datang\n",
      "=====BY WORD=====\n",
      "bagus => buang\n",
      "bagus => gb\n",
      "bagus => bug\n",
      "bagus => gabisa\n",
      "bagus => sebagai\n",
      "jelek => kesel\n",
      "jelek => kejelasan\n",
      "jelek => semenjak\n",
      "jelek => jelas\n",
      "jelek => lelet\n",
      "=====COSMUL APA ITU=====\n",
      "bagus => bagusbagus\n",
      "bagus => baguss\n",
      "bagus => baguus\n",
      "bagus => bgus\n",
      "bagus => bagusi\n",
      "jelek => jelekjelek\n",
      "jelek => jlek\n",
      "jelek => jeleeek\n",
      "jelek => terjelek\n",
      "jelek => jelekin\n",
      "=====BY VECTOR=====\n",
      "bagus => bagus\n",
      "bagus => buang\n",
      "bagus => gb\n",
      "bagus => bug\n",
      "bagus => gabisa\n",
      "jelek => jelek\n",
      "jelek => kesel\n",
      "jelek => kejelasan\n",
      "jelek => semenjak\n",
      "jelek => jelas\n"
     ]
    }
   ],
   "source": [
    "#JUST TEST FOR CLUSTERING???\n",
    "keys = ['bagus', 'jelek']\n",
    "\n",
    "print(\"=====POSITIVE=====\")\n",
    "for word in keys:\n",
    "    for similar_word, _  in loaded_model.wv.most_similar(positive=word, topn=5, restrict_vocab=1000):\n",
    "        print(word + \" => \" + similar_word)\n",
    "\n",
    "print(\"=====NEGATIVE=====\")\n",
    "for word in keys:\n",
    "    for similar_word, _  in loaded_model.wv.most_similar(negative=word, topn=5, restrict_vocab=1000):\n",
    "        print(word + \" => \" + similar_word)\n",
    "\n",
    "print(\"=====BY WORD=====\")\n",
    "for word in keys:\n",
    "    for similar_word, _  in loaded_model.wv.similar_by_word(word, topn=5, restrict_vocab=1000):\n",
    "        print(word + \" => \" + similar_word)\n",
    "        \n",
    "print(\"=====COSMUL APA ITU=====\")\n",
    "for word in keys:\n",
    "    for similar_word, _  in loaded_model.wv.most_similar_cosmul(word, topn=5):\n",
    "        print(word + \" => \" + similar_word)\n",
    "\n",
    "print(\"=====BY VECTOR=====\")\n",
    "for word in keys:\n",
    "    for similar_word, _  in loaded_model.wv.similar_by_vector(loaded_model.wv[word], topn=5, restrict_vocab=1000):\n",
    "        print(word + \" => \" + similar_word)"
   ]
  },
  {
   "cell_type": "code",
   "execution_count": 16,
   "metadata": {},
   "outputs": [
    {
     "data": {
      "text/plain": [
       "{'mantap': ['mantap😊😍🤩', 'mantaap', 'mantapp', 'mntap', 'paman'],\n",
       " 'keren': ['kreeen', 'kereen', 'kereenn', 'kerenn', 'kren'],\n",
       " 'bagus': ['bagusbagus', 'baguss', 'baguus', 'bgus', 'bagusi'],\n",
       " 'jelek': ['jelekjelek', 'jlek', 'jeleeek', 'terjelek', 'jelekin'],\n",
       " 'parah': ['paraah', 'paraha', 'parahâ³', 'harap', 'parahh'],\n",
       " 'cepat': ['capet', 'pecat', 'cepatt', 'cept', 'pecepat']}"
      ]
     },
     "execution_count": 16,
     "metadata": {},
     "output_type": "execute_result"
    }
   ],
   "source": [
    "similar_words = {search_term: [item[0] for item in loaded_model.wv.most_similar([search_term], topn=5)]\n",
    "                for search_term in ['mantap', 'keren', 'bagus', 'jelek', 'parah', 'cepat']}\n",
    "similar_words"
   ]
  },
  {
   "cell_type": "code",
   "execution_count": 17,
   "metadata": {},
   "outputs": [
    {
     "name": "stderr",
     "output_type": "stream",
     "text": [
      "/home/administrator/anaconda3/lib/python3.7/site-packages/matplotlib/backends/backend_agg.py:211: RuntimeWarning: Glyph 129321 missing from current font.\n",
      "  font.set_text(s, 0.0, flags=flags)\n",
      "/home/administrator/anaconda3/lib/python3.7/site-packages/matplotlib/backends/backend_agg.py:180: RuntimeWarning: Glyph 129321 missing from current font.\n",
      "  font.set_text(s, 0, flags=flags)\n"
     ]
    },
    {
     "data": {
      "image/png": "[encoded data removed]",
      "text/plain": [
       "<Figure size 1440x720 with 1 Axes>"
      ]
     },
     "metadata": {
      "needs_background": "light"
     },
     "output_type": "display_data"
    }
   ],
   "source": [
    "words = sum([[k] + v for k, v in similar_words.items()], [])\n",
    "wvs = loaded_model.wv[words]\n",
    "\n",
    "pca = PCA(n_components=2)\n",
    "np.set_printoptions(suppress=True)\n",
    "P = pca.fit_transform(wvs)\n",
    "labels = words\n",
    "\n",
    "plt.figure(figsize=(20, 10))\n",
    "plt.scatter(P[:, 0], P[:, 1], c='green', edgecolors='g')\n",
    "for label, x, y in zip(labels, P[:, 0], P[:, 1]):\n",
    "    plt.annotate(label, xy=(x+0.06, y+0.03), xytext=(0, 0), textcoords='offset points')"
   ]
  },
  {
   "cell_type": "code",
   "execution_count": null,
   "metadata": {},
   "outputs": [],
   "source": []
  }
 ],
 "metadata": {
  "kernelspec": {
   "display_name": "Python 3",
   "language": "python",
   "name": "python3"
  },
  "language_info": {
   "codemirror_mode": {
    "name": "ipython",
    "version": 3
   },
   "file_extension": ".py",
   "mimetype": "text/x-python",
   "name": "python",
   "nbconvert_exporter": "python",
   "pygments_lexer": "ipython3",
   "version": "3.7.4"
  }
 },
 "nbformat": 4,
 "nbformat_minor": 2
}
