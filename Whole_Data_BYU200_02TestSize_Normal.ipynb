{
 "cells": [
  {
   "cell_type": "markdown",
   "metadata": {},
   "source": [
    "#Import Libraries"
   ]
  },
  {
   "cell_type": "code",
   "execution_count": 1,
   "metadata": {},
   "outputs": [
    {
     "name": "stdout",
     "output_type": "stream",
     "text": [
      "Num GPUs Available:  1\n"
     ]
    }
   ],
   "source": [
    "import pandas as pd\n",
    "import numpy as np\n",
    "import nltk\n",
    "\n",
    "import matplotlib.pyplot as plt\n",
    "%matplotlib inline\n",
    "\n",
    "from Sastrawi.StopWordRemover.StopWordRemoverFactory import StopWordRemoverFactory\n",
    "from Sastrawi.Stemmer.StemmerFactory import StemmerFactory\n",
    "import tensorflow as tf\n",
    "print(\"Num GPUs Available: \", len(tf.config.experimental.list_physical_devices('GPU')))\n",
    "\n",
    "factory = StopWordRemoverFactory()\n",
    "stopwords = factory.get_stop_words()"
   ]
  },
  {
   "cell_type": "markdown",
   "metadata": {},
   "source": [
    "Import the dataset for Random Forest Classification"
   ]
  },
  {
   "cell_type": "code",
   "execution_count": 2,
   "metadata": {},
   "outputs": [
    {
     "data": {
      "text/html": [
       "<div>\n",
       "<style scoped>\n",
       "    .dataframe tbody tr th:only-of-type {\n",
       "        vertical-align: middle;\n",
       "    }\n",
       "\n",
       "    .dataframe tbody tr th {\n",
       "        vertical-align: top;\n",
       "    }\n",
       "\n",
       "    .dataframe thead th {\n",
       "        text-align: right;\n",
       "    }\n",
       "</style>\n",
       "<table border=\"1\" class=\"dataframe\">\n",
       "  <thead>\n",
       "    <tr style=\"text-align: right;\">\n",
       "      <th></th>\n",
       "      <th>COMMENT</th>\n",
       "      <th>SENTIMEN</th>\n",
       "    </tr>\n",
       "  </thead>\n",
       "  <tbody>\n",
       "    <tr>\n",
       "      <td>0</td>\n",
       "      <td>Tidak seperti di iphone menunya kurang, jadwal...</td>\n",
       "      <td>Negative</td>\n",
       "    </tr>\n",
       "    <tr>\n",
       "      <td>1</td>\n",
       "      <td>Kurang bersahabat ama VoiceOver nih. Semoga ha...</td>\n",
       "      <td>Negative</td>\n",
       "    </tr>\n",
       "    <tr>\n",
       "      <td>2</td>\n",
       "      <td>Hampir setahun belum ada update, UI tidak ada ...</td>\n",
       "      <td>Negative</td>\n",
       "    </tr>\n",
       "    <tr>\n",
       "      <td>3</td>\n",
       "      <td>Mohon appnya diperbaiki.. Crashnya ga ketolong...</td>\n",
       "      <td>Negative</td>\n",
       "    </tr>\n",
       "    <tr>\n",
       "      <td>4</td>\n",
       "      <td>Aplikasi sampah, crash mulu,errorny banyak,ga ...</td>\n",
       "      <td>Negative</td>\n",
       "    </tr>\n",
       "    <tr>\n",
       "      <td>...</td>\n",
       "      <td>...</td>\n",
       "      <td>...</td>\n",
       "    </tr>\n",
       "    <tr>\n",
       "      <td>548</td>\n",
       "      <td>Aplikasi yg sangat membantu, ada beberapa usul...</td>\n",
       "      <td>Positive</td>\n",
       "    </tr>\n",
       "    <tr>\n",
       "      <td>549</td>\n",
       "      <td>Keren gan. Update terus agar lebih lengkap.</td>\n",
       "      <td>Positive</td>\n",
       "    </tr>\n",
       "    <tr>\n",
       "      <td>550</td>\n",
       "      <td>Applikasi yang sangat berguna untuk aktifitas ...</td>\n",
       "      <td>Positive</td>\n",
       "    </tr>\n",
       "    <tr>\n",
       "      <td>551</td>\n",
       "      <td>Bagus juga, jadi mudah nyari tempat dan simple...</td>\n",
       "      <td>Positive</td>\n",
       "    </tr>\n",
       "    <tr>\n",
       "      <td>552</td>\n",
       "      <td>Banyak kemajuan dengan versi barunya, job well...</td>\n",
       "      <td>Positive</td>\n",
       "    </tr>\n",
       "  </tbody>\n",
       "</table>\n",
       "<p>553 rows × 2 columns</p>\n",
       "</div>"
      ],
      "text/plain": [
       "                                               COMMENT  SENTIMEN\n",
       "0    Tidak seperti di iphone menunya kurang, jadwal...  Negative\n",
       "1    Kurang bersahabat ama VoiceOver nih. Semoga ha...  Negative\n",
       "2    Hampir setahun belum ada update, UI tidak ada ...  Negative\n",
       "3    Mohon appnya diperbaiki.. Crashnya ga ketolong...  Negative\n",
       "4    Aplikasi sampah, crash mulu,errorny banyak,ga ...  Negative\n",
       "..                                                 ...       ...\n",
       "548  Aplikasi yg sangat membantu, ada beberapa usul...  Positive\n",
       "549        Keren gan. Update terus agar lebih lengkap.  Positive\n",
       "550  Applikasi yang sangat berguna untuk aktifitas ...  Positive\n",
       "551  Bagus juga, jadi mudah nyari tempat dan simple...  Positive\n",
       "552  Banyak kemajuan dengan versi barunya, job well...  Positive\n",
       "\n",
       "[553 rows x 2 columns]"
      ]
     },
     "execution_count": 2,
     "metadata": {},
     "output_type": "execute_result"
    }
   ],
   "source": [
    "df=pd.read_excel(\"SentimentDatasetonAppReviewfromAppStore.xlsx\")\n",
    "df = df.drop(['ID', 'TITLE', 'RATING'], axis=1)\n",
    "df[~df.COMMENT.str.contains(r'[0-9]')]\n",
    "df"
   ]
  },
  {
   "cell_type": "code",
   "execution_count": 3,
   "metadata": {},
   "outputs": [
    {
     "data": {
      "text/plain": [
       "Positive    259\n",
       "Negative    241\n",
       "Neutral      53\n",
       "Name: SENTIMEN, dtype: int64"
      ]
     },
     "execution_count": 3,
     "metadata": {},
     "output_type": "execute_result"
    }
   ],
   "source": [
    "df['SENTIMEN'].value_counts()"
   ]
  },
  {
   "cell_type": "code",
   "execution_count": 4,
   "metadata": {},
   "outputs": [],
   "source": [
    "# count = 0\n",
    "# for i in df['SENTIMEN']:\n",
    "#     if df['SENTIMEN'][count] == 'Neutral':\n",
    "#         df=df.drop(count)\n",
    "#     count+=1"
   ]
  },
  {
   "cell_type": "code",
   "execution_count": 5,
   "metadata": {},
   "outputs": [],
   "source": [
    "# df['SENTIMEN'].value_counts()"
   ]
  },
  {
   "cell_type": "code",
   "execution_count": 6,
   "metadata": {},
   "outputs": [
    {
     "data": {
      "text/plain": [
       "Positive    0.468354\n",
       "Negative    0.435805\n",
       "Neutral     0.095841\n",
       "Name: SENTIMEN, dtype: float64"
      ]
     },
     "execution_count": 6,
     "metadata": {},
     "output_type": "execute_result"
    },
    {
     "data": {
      "image/png": "[encoded data removed]",
      "text/plain": [
       "<Figure size 432x288 with 1 Axes>"
      ]
     },
     "metadata": {
      "needs_background": "light"
     },
     "output_type": "display_data"
    }
   ],
   "source": [
    "diagram_coba = df.SENTIMEN.value_counts(normalize=True)\n",
    "diagram_coba[[\"Negative\", \"Neutral\", \"Positive\"]].plot(kind=\"bar\")\n",
    "diagram_coba"
   ]
  },
  {
   "cell_type": "markdown",
   "metadata": {},
   "source": [
    "#Preprocessing"
   ]
  },
  {
   "cell_type": "code",
   "execution_count": 7,
   "metadata": {},
   "outputs": [
    {
     "data": {
      "text/html": [
       "<div>\n",
       "<style scoped>\n",
       "    .dataframe tbody tr th:only-of-type {\n",
       "        vertical-align: middle;\n",
       "    }\n",
       "\n",
       "    .dataframe tbody tr th {\n",
       "        vertical-align: top;\n",
       "    }\n",
       "\n",
       "    .dataframe thead th {\n",
       "        text-align: right;\n",
       "    }\n",
       "</style>\n",
       "<table border=\"1\" class=\"dataframe\">\n",
       "  <thead>\n",
       "    <tr style=\"text-align: right;\">\n",
       "      <th></th>\n",
       "      <th>COMMENT</th>\n",
       "      <th>SENTIMEN</th>\n",
       "    </tr>\n",
       "  </thead>\n",
       "  <tbody>\n",
       "    <tr>\n",
       "      <td>0</td>\n",
       "      <td>[tidak, seperti, di, iphone, menunya, kurang, ...</td>\n",
       "      <td>Negative</td>\n",
       "    </tr>\n",
       "    <tr>\n",
       "      <td>1</td>\n",
       "      <td>[kurang, bersahabat, ama, voiceover, nih, semo...</td>\n",
       "      <td>Negative</td>\n",
       "    </tr>\n",
       "    <tr>\n",
       "      <td>2</td>\n",
       "      <td>[hampir, setahun, belum, ada, update, ui, tida...</td>\n",
       "      <td>Negative</td>\n",
       "    </tr>\n",
       "    <tr>\n",
       "      <td>3</td>\n",
       "      <td>[mohon, appnya, diperbaiki, crashnya, ga, keto...</td>\n",
       "      <td>Negative</td>\n",
       "    </tr>\n",
       "    <tr>\n",
       "      <td>4</td>\n",
       "      <td>[aplikasi, sampah, crash, mulu, errorny, banya...</td>\n",
       "      <td>Negative</td>\n",
       "    </tr>\n",
       "    <tr>\n",
       "      <td>...</td>\n",
       "      <td>...</td>\n",
       "      <td>...</td>\n",
       "    </tr>\n",
       "    <tr>\n",
       "      <td>548</td>\n",
       "      <td>[aplikasi, yg, sangat, membantu, ada, beberapa...</td>\n",
       "      <td>Positive</td>\n",
       "    </tr>\n",
       "    <tr>\n",
       "      <td>549</td>\n",
       "      <td>[keren, gan, update, terus, agar, lebih, lengkap]</td>\n",
       "      <td>Positive</td>\n",
       "    </tr>\n",
       "    <tr>\n",
       "      <td>550</td>\n",
       "      <td>[applikasi, yang, sangat, berguna, untuk, akti...</td>\n",
       "      <td>Positive</td>\n",
       "    </tr>\n",
       "    <tr>\n",
       "      <td>551</td>\n",
       "      <td>[bagus, juga, jadi, mudah, nyari, tempat, dan,...</td>\n",
       "      <td>Positive</td>\n",
       "    </tr>\n",
       "    <tr>\n",
       "      <td>552</td>\n",
       "      <td>[banyak, kemajuan, dengan, versi, barunya, job...</td>\n",
       "      <td>Positive</td>\n",
       "    </tr>\n",
       "  </tbody>\n",
       "</table>\n",
       "<p>553 rows × 2 columns</p>\n",
       "</div>"
      ],
      "text/plain": [
       "                                               COMMENT  SENTIMEN\n",
       "0    [tidak, seperti, di, iphone, menunya, kurang, ...  Negative\n",
       "1    [kurang, bersahabat, ama, voiceover, nih, semo...  Negative\n",
       "2    [hampir, setahun, belum, ada, update, ui, tida...  Negative\n",
       "3    [mohon, appnya, diperbaiki, crashnya, ga, keto...  Negative\n",
       "4    [aplikasi, sampah, crash, mulu, errorny, banya...  Negative\n",
       "..                                                 ...       ...\n",
       "548  [aplikasi, yg, sangat, membantu, ada, beberapa...  Positive\n",
       "549  [keren, gan, update, terus, agar, lebih, lengkap]  Positive\n",
       "550  [applikasi, yang, sangat, berguna, untuk, akti...  Positive\n",
       "551  [bagus, juga, jadi, mudah, nyari, tempat, dan,...  Positive\n",
       "552  [banyak, kemajuan, dengan, versi, barunya, job...  Positive\n",
       "\n",
       "[553 rows x 2 columns]"
      ]
     },
     "execution_count": 7,
     "metadata": {},
     "output_type": "execute_result"
    }
   ],
   "source": [
    "import re\n",
    "import string\n",
    "\n",
    "review_user = df['COMMENT'].astype(str)\n",
    "\n",
    "#Lower case\n",
    "review_user = review_user.apply(lambda x: x.lower())\n",
    "\n",
    "#Remove Number\n",
    "review_user = review_user.apply(lambda x: re.sub(r\"\\d\", \"\", x))\n",
    "\n",
    "#Before Punctuation\n",
    "review_user = review_user.apply(lambda x: re.sub(r'(?<=[,.])(?=[^\\s])', r' ', x))\n",
    "\n",
    "#Punctuation\n",
    "review_user = review_user.apply(lambda x: x.translate(str.maketrans('', '', string.punctuation)))\n",
    "\n",
    "#Tokenizing\n",
    "review_user = review_user.apply(lambda x: nltk.tokenize.word_tokenize(x))\n",
    "\n",
    "df[\"COMMENT\"] = review_user\n",
    "df"
   ]
  },
  {
   "cell_type": "markdown",
   "metadata": {},
   "source": [
    "#Train & Test Split"
   ]
  },
  {
   "cell_type": "code",
   "execution_count": 8,
   "metadata": {},
   "outputs": [
    {
     "data": {
      "text/plain": [
       "182    [this, app, is, great, but, since, the, last, ...\n",
       "255    [if, youre, not, online, you, cant, use, the, ...\n",
       "323    [sepertinya, ada, bug, nih, karena, kalau, tul...\n",
       "404    [mengecewakan, aplikasinya, ga, bisa, di, paka...\n",
       "29     [selalu, crash, setiap, mau, mencari, kata, ja...\n",
       "                             ...                        \n",
       "199            [tukang, ojek, nya, lama, banget, datang]\n",
       "233                           [yeap, crash, many, times]\n",
       "158                             [they, took, my, credit]\n",
       "436    [tidak, bisa, aktivasi, di, iphone, kembali, i...\n",
       "488    [gw, demen, in, aps, makasih, sm, yg, bikin, u...\n",
       "Name: COMMENT, Length: 442, dtype: object"
      ]
     },
     "execution_count": 8,
     "metadata": {},
     "output_type": "execute_result"
    }
   ],
   "source": [
    "from sklearn.model_selection import train_test_split\n",
    "\n",
    "X_train, X_val, y_train, y_val = train_test_split(df['COMMENT'], df['SENTIMEN'], test_size=0.2, random_state=42, stratify=df['SENTIMEN'])\n",
    "X_train\n"
   ]
  },
  {
   "cell_type": "markdown",
   "metadata": {},
   "source": [
    "#Import and Vectorize the dataset using the FastText pre-trained model"
   ]
  },
  {
   "cell_type": "code",
   "execution_count": 9,
   "metadata": {},
   "outputs": [],
   "source": [
    "import gensim\n",
    "from gensim.models import FastText\n",
    "loc = \"../FastText_models/saved_model_gensim200SG_BYU.bin\" #You can change it with your own directory\n",
    "model = FastText.load(loc)"
   ]
  },
  {
   "cell_type": "code",
   "execution_count": 10,
   "metadata": {},
   "outputs": [],
   "source": [
    "from CobaVectorizer import MeanEmbeddingVectorizer\n",
    "mean_vec_tr = MeanEmbeddingVectorizer(model)"
   ]
  },
  {
   "cell_type": "code",
   "execution_count": 11,
   "metadata": {},
   "outputs": [],
   "source": [
    "X_train_vector = mean_vec_tr.transform(X_train)\n",
    "X_test_vector = mean_vec_tr.transform(X_val)"
   ]
  },
  {
   "cell_type": "code",
   "execution_count": 12,
   "metadata": {},
   "outputs": [
    {
     "data": {
      "text/plain": [
       "array([[ 0.00854004, -0.04341166, -0.07535776, ...,  0.04635568,\n",
       "         0.07425904, -0.24877267],\n",
       "       [ 0.15118721, -0.02331015, -0.00157575, ...,  0.02723662,\n",
       "         0.10636346, -0.12727994],\n",
       "       [-0.17017728, -0.1507604 , -0.2032045 , ..., -0.04251852,\n",
       "         0.02152889, -0.02605511],\n",
       "       ...,\n",
       "       [-0.07343431, -0.09138253, -0.12981783, ..., -0.08853858,\n",
       "        -0.0826005 , -0.40027216],\n",
       "       [ 0.05572172, -0.11684217, -0.08382049, ..., -0.134581  ,\n",
       "        -0.04799243, -0.12490673],\n",
       "       [-0.10720699, -0.09525751, -0.14641182, ...,  0.02186477,\n",
       "        -0.10714685, -0.23254143]], dtype=float32)"
      ]
     },
     "execution_count": 12,
     "metadata": {},
     "output_type": "execute_result"
    }
   ],
   "source": [
    "X_train_embeddings = X_train_vector\n",
    "X_test_embeddings = X_test_vector\n",
    "y_train = y_train.replace(['Positive', 'Neutral', 'Negative'], [1, 0, -1])\n",
    "y_val = y_val.replace(['Positive', 'Neutral', 'Negative'], [1, 0, -1])\n",
    "X_train_embeddings"
   ]
  },
  {
   "cell_type": "markdown",
   "metadata": {},
   "source": [
    "#Classification with Random Forest & Evaluate the model"
   ]
  },
  {
   "cell_type": "code",
   "execution_count": 13,
   "metadata": {
    "scrolled": true
   },
   "outputs": [
    {
     "name": "stdout",
     "output_type": "stream",
     "text": [
      "CPU times: user 1min 44s, sys: 21 ms, total: 1min 44s\n",
      "Wall time: 1min 44s\n"
     ]
    }
   ],
   "source": [
    "%%time\n",
    "from RandomForest import *\n",
    "np.random.seed(42)\n",
    "rf_model = RandomForest(samp_size=0.8,\n",
    "                        num_trees=20,\n",
    "                        num_features=15,\n",
    "                        terminate='leaf',\n",
    "                        leaf_terminate=5,\n",
    "                        oob=True)\n",
    "\n",
    "rf_model.fit(X_train_embeddings, y_train)"
   ]
  },
  {
   "cell_type": "code",
   "execution_count": 14,
   "metadata": {},
   "outputs": [
    {
     "name": "stdout",
     "output_type": "stream",
     "text": [
      "[[193   0   0]\n",
      " [  4  38   0]\n",
      " [  2   0 205]]\n",
      "Accuracy TRAIN:  0.9864253393665159\n",
      "              precision    recall  f1-score   support\n",
      "\n",
      "          -1       0.97      1.00      0.98       193\n",
      "           0       1.00      0.90      0.95        42\n",
      "           1       1.00      0.99      1.00       207\n",
      "\n",
      "    accuracy                           0.99       442\n",
      "   macro avg       0.99      0.97      0.98       442\n",
      "weighted avg       0.99      0.99      0.99       442\n",
      "\n"
     ]
    }
   ],
   "source": [
    "from sklearn.metrics import confusion_matrix\n",
    "from sklearn.metrics import accuracy_score\n",
    "from sklearn import metrics\n",
    "\n",
    "y_train_pred = rf_model.predict(X_train_embeddings)\n",
    "C = confusion_matrix(y_train, y_train_pred)\n",
    "print(C)\n",
    "\n",
    "print(\"Accuracy TRAIN: \", accuracy_score(y_train, y_train_pred))\n",
    "\n",
    "print(metrics.classification_report(y_train, y_train_pred))"
   ]
  },
  {
   "cell_type": "code",
   "execution_count": 15,
   "metadata": {},
   "outputs": [
    {
     "name": "stdout",
     "output_type": "stream",
     "text": [
      "[[34  0 14]\n",
      " [ 4  1  6]\n",
      " [ 9  0 43]]\n",
      "Accuracy TEST:  0.7027027027027027\n",
      "              precision    recall  f1-score   support\n",
      "\n",
      "          -1       0.72      0.71      0.72        48\n",
      "           0       1.00      0.09      0.17        11\n",
      "           1       0.68      0.83      0.75        52\n",
      "\n",
      "    accuracy                           0.70       111\n",
      "   macro avg       0.80      0.54      0.54       111\n",
      "weighted avg       0.73      0.70      0.68       111\n",
      "\n"
     ]
    }
   ],
   "source": [
    "y_test_pred = rf_model.predict(X_test_embeddings)\n",
    "C2 = confusion_matrix(y_val, y_test_pred)\n",
    "print(C2)\n",
    "print(\"Accuracy TEST: \", accuracy_score(y_val, y_test_pred))\n",
    "print(metrics.classification_report(y_val, y_test_pred))"
   ]
  },
  {
   "cell_type": "code",
   "execution_count": 16,
   "metadata": {},
   "outputs": [
    {
     "name": "stdout",
     "output_type": "stream",
     "text": [
      "Positive\n"
     ]
    }
   ],
   "source": [
    "kalimat = [['jelek', 'banget', 'aplikasinya', 'tapi', 'murah', 'harganya', 'lumayanlah']]\n",
    "test_ya = mean_vec_tr.transform(kalimat)\n",
    "prediksi = rf_model.predict(test_ya)\n",
    "if (prediksi==1):\n",
    "    print(\"Positive\")\n",
    "elif (prediksi==0):\n",
    "    print(\"Neutral\")\n",
    "else:\n",
    "    print(\"Negative\")"
   ]
  },
  {
   "cell_type": "code",
   "execution_count": 17,
   "metadata": {},
   "outputs": [
    {
     "name": "stdout",
     "output_type": "stream",
     "text": [
      "Positive\n"
     ]
    }
   ],
   "source": [
    "kalimat2 = [['bagus', 'puas', 'pakenya', 'tapi', 'sayang', 'lemot']]\n",
    "test_ya2 = mean_vec_tr.transform(kalimat2)\n",
    "prediksi2 = rf_model.predict(test_ya2)\n",
    "if (prediksi2==1):\n",
    "    print(\"Positive\")\n",
    "elif (prediksi2==0):\n",
    "    print(\"Neutral\")\n",
    "else:\n",
    "    print(\"Negative\")"
   ]
  },
  {
   "cell_type": "code",
   "execution_count": 18,
   "metadata": {},
   "outputs": [],
   "source": [
    "# %%time\n",
    "# n_pohon = [20, 15, 10]\n",
    "# n_features = [15, int(np.sqrt(X_train_embeddings.shape[1]))]\n",
    "# min_leaf = [5, 7, 9]\n",
    "# sample_size = [0.5, 0.8]\n",
    "# acu_train = 0\n",
    "# acu_test = 0\n",
    "\n",
    "# for pohon in n_pohon:\n",
    "#     for sample in sample_size:\n",
    "#         for leaf in min_leaf:\n",
    "#             for fitur in n_features:\n",
    "#                 np.random.seed(42)\n",
    "#                 coba_RF = RandomForest(samp_size=sample, num_trees=pohon, num_features=fitur,\n",
    "#                                       terminate='leaf', leaf_terminate=leaf, oob=True)\n",
    "#                 coba_RF.fit(X_train_embeddings, y_train)\n",
    "#                 train_coba = coba_RF.predict(X_train_embeddings)\n",
    "#                 test_coba = coba_RF.predict(X_test_embeddings)\n",
    "#                 acu_train_temp = accuracy_score(y_train, train_coba)\n",
    "#                 acu_test_temp = accuracy_score(y_val, test_coba)\n",
    "#                 if(acu_test_temp > acu_test):\n",
    "#                     acu_train = acu_train_temp\n",
    "#                     acu_test = acu_test_temp\n",
    "#                     print(\"n_tree: \", pohon)\n",
    "#                     print(\"Sample Size: \", sample)\n",
    "#                     print(\"Leaf: \", leaf)\n",
    "#                     print(\"Max features: \", fitur)\n",
    "#                     print(\"TRAIN Accuracy: \", acu_train)\n",
    "#                     print(\"TEST Accuracy: \", acu_test)\n",
    "#                     print(\"=========================\")"
   ]
  }
 ],
 "metadata": {
  "kernelspec": {
   "display_name": "Python 3",
   "language": "python",
   "name": "python3"
  },
  "language_info": {
   "codemirror_mode": {
    "name": "ipython",
    "version": 3
   },
   "file_extension": ".py",
   "mimetype": "text/x-python",
   "name": "python",
   "nbconvert_exporter": "python",
   "pygments_lexer": "ipython3",
   "version": "3.7.4"
  }
 },
 "nbformat": 4,
 "nbformat_minor": 2
}
